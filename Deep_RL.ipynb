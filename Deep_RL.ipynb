{
  "nbformat": 4,
  "nbformat_minor": 0,
  "metadata": {
    "colab": {
      "provenance": []
    },
    "kernelspec": {
      "name": "python3",
      "display_name": "Python 3"
    },
    "language_info": {
      "name": "python"
    }
  },
  "cells": [
    {
      "cell_type": "code",
      "source": [
        "import gymnasium as gym\n",
        "from gymnasium import spaces\n",
        "import numpy as np\n",
        "\n",
        "class ConnectFourGym(gym.Env):\n",
        "    def __init__(self):\n",
        "        super(ConnectFourGym, self).__init__()\n",
        "        self.rows = 6\n",
        "        self.columns = 7\n",
        "        self.action_space = spaces.Discrete(self.columns)\n",
        "        self.observation_space = spaces.Box(low=0, high=2, shape=(self.rows, self.columns), dtype=int)\n",
        "        self.board = np.zeros((self.rows, self.columns), dtype=int)\n",
        "        self.current_player = 1\n",
        "\n",
        "    def reset(self, seed=None, options=None):\n",
        "        super().reset(seed=seed)\n",
        "        self.board = np.zeros((self.rows, self.columns), dtype=int)\n",
        "        self.current_player = 1\n",
        "        info = {}\n",
        "        return self.board, info\n",
        "\n",
        "    def step(self, action):\n",
        "        if self.board[0, action] != 0:\n",
        "            return self.board, -10, True, False, {}\n",
        "\n",
        "        row = -1\n",
        "        for r in range(self.rows):\n",
        "            if self.board[r, action] == 0:\n",
        "                row = r\n",
        "                break\n",
        "\n",
        "        self.board[row, action] = self.current_player\n",
        "\n",
        "        reward, terminated = self.check_winner(row, action)\n",
        "        truncated = False  # implement truncation logic if needed\n",
        "        self.current_player = 3 - self.current_player\n",
        "        return self.board, reward, terminated, truncated, {}\n",
        "\n",
        "    def check_winner(self, row, col):\n",
        "        player = self.board[row, col]\n",
        "        directions = [(1, 0), (0, 1), (1, 1), (1, -1)]\n",
        "        for dr, dc in directions:\n",
        "            count = 1\n",
        "            for step in range(1, 4):\n",
        "                r, c = row + dr * step, col + dc * step\n",
        "                if 0 <= r < self.rows and 0 <= c < self.columns and self.board[r, c] == player:\n",
        "                    count += 1\n",
        "                else:\n",
        "                    break\n",
        "\n",
        "            for step in range(1, 4):\n",
        "                r, c = row - dr * step, col - dc * step\n",
        "                if 0 <= r < self.rows and 0 <= c < self.columns and self.board[r, c] == player:\n",
        "                    count += 1\n",
        "                else:\n",
        "                    break\n",
        "\n",
        "            if count >= 4:\n",
        "                return 1 if player == 1 else -1, True\n",
        "\n",
        "        if np.all(self.board != 0):\n",
        "            return 0, True\n",
        "\n",
        "        return 0, False\n",
        "\n",
        "    # def render(self, mode='human'):\n",
        "    #     print(self.board)\n",
        "\n",
        "    def render(self, mode='human'):\n",
        "      print(\"\\n\".join([\" \".join(map(str, row)) for row in self.board]))\n",
        "\n",
        "    def change_reward(self):\n",
        "        pass\n"
      ],
      "metadata": {
        "id": "hKWX_Kdv-pSt"
      },
      "execution_count": 34,
      "outputs": []
    },
    {
      "cell_type": "code",
      "source": [
        "import torch\n",
        "import torch.nn as nn\n",
        "import torch.nn.functional as F\n",
        "\n",
        "class ConnectFourCNN(nn.Module):\n",
        "    def __init__(self):\n",
        "        super(ConnectFourCNN, self).__init__()\n",
        "        self.conv1 = nn.Conv2d(1, 32, kernel_size=3, stride=1, padding=1)\n",
        "        self.conv2 = nn.Conv2d(32, 64, kernel_size=3, stride=1, padding=1)\n",
        "        self.conv3 = nn.Conv2d(64, 128, kernel_size=3, stride=1, padding=1)\n",
        "        self.fc1 = nn.Linear(128 * 6 * 7, 512)\n",
        "        self.fc2 = nn.Linear(512, 7)\n",
        "\n",
        "    def forward(self, x):\n",
        "        x = F.relu(self.conv1(x))\n",
        "        x = F.relu(self.conv2(x))\n",
        "        x = F.relu(self.conv3(x))\n",
        "        x = x.view(-1, 128 * 6 * 7)\n",
        "        x = F.relu(self.fc1(x))\n",
        "        x = self.fc2(x)\n",
        "        return x\n"
      ],
      "metadata": {
        "id": "DTzT6qJY-pUj"
      },
      "execution_count": 35,
      "outputs": []
    },
    {
      "cell_type": "code",
      "source": [
        "from stable_baselines3 import PPO\n",
        "from stable_baselines3.common.env_checker import check_env\n",
        "from stable_baselines3.common.vec_env import DummyVecEnv\n",
        "\n",
        "env = ConnectFourGym()\n",
        "check_env(env)\n",
        "\n",
        "env = DummyVecEnv([lambda: env])\n",
        "\n",
        "model = PPO('MlpPolicy', env, verbose=1)\n",
        "model.learn(total_timesteps=100000)\n",
        "\n",
        "model.save(\"ppo_connectfour\")\n"
      ],
      "metadata": {
        "id": "f7pUkgW8-pW0"
      },
      "execution_count": 40,
      "outputs": []
    },
    {
      "cell_type": "code",
      "source": [
        "model = PPO.load(\"ppo_connectfour\")\n",
        "\n",
        "obs = env.reset()\n",
        "done = False\n",
        "while not done:\n",
        "    action, _states = model.predict(obs)\n",
        "    obs, rewards, dones, infos = env.step(action)\n",
        "    done = dones[0]\n",
        "    env.render()\n"
      ],
      "metadata": {
        "id": "5FDSMe__-pZH"
      },
      "execution_count": 42,
      "outputs": []
    },
    {
      "cell_type": "code",
      "source": [],
      "metadata": {
        "id": "q54a5Irq-pbd"
      },
      "execution_count": null,
      "outputs": []
    },
    {
      "cell_type": "code",
      "source": [],
      "metadata": {
        "id": "jr75ctOu-pdx"
      },
      "execution_count": null,
      "outputs": []
    },
    {
      "cell_type": "code",
      "source": [],
      "metadata": {
        "id": "8UY4Lub8-pgX"
      },
      "execution_count": null,
      "outputs": []
    }
  ]
}